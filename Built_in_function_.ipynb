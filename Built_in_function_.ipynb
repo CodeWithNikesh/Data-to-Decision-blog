{
  "nbformat": 4,
  "nbformat_minor": 0,
  "metadata": {
    "colab": {
      "provenance": [],
      "authorship_tag": "ABX9TyOVbtSWtVwSLzf8nCVKmjuB",
      "include_colab_link": true
    },
    "kernelspec": {
      "name": "python3",
      "display_name": "Python 3"
    },
    "language_info": {
      "name": "python"
    }
  },
  "cells": [
    {
      "cell_type": "markdown",
      "metadata": {
        "id": "view-in-github",
        "colab_type": "text"
      },
      "source": [
        "<a href=\"https://colab.research.google.com/github/nikesh11xx/Data-to-Decision-blog/blob/main/Built_in_function_.ipynb\" target=\"_parent\"><img src=\"https://colab.research.google.com/assets/colab-badge.svg\" alt=\"Open In Colab\"/></a>"
      ]
    },
    {
      "cell_type": "markdown",
      "source": [
        "creating a finction with docstring\n",
        "- a docstring is a multiline string"
      ],
      "metadata": {
        "id": "DyHXs7UJJ9Yp"
      }
    },
    {
      "cell_type": "code",
      "execution_count": 4,
      "metadata": {
        "id": "24xLUraZFhag"
      },
      "outputs": [],
      "source": [
        "def is_even(num):\n",
        "  '''\n",
        "  This function return if a given number is even or odd\n",
        "  input - any valid integer\n",
        "  output - odd/even\n",
        "  created on  - 13th feb 2014\n",
        "\n",
        "  '''\n",
        "  if type(num) == int:\n",
        "    if num % 2 == 0:\n",
        "      return 'even'\n",
        "    else:\n",
        "      return 'odd'\n",
        "  else:\n",
        "    return 'only int value is valid'"
      ]
    },
    {
      "cell_type": "code",
      "source": [
        "for i in range(1,11):\n",
        "  x = is_even(i)\n",
        "  print(x)"
      ],
      "metadata": {
        "id": "zv9OX04iGIJM"
      },
      "execution_count": null,
      "outputs": []
    },
    {
      "cell_type": "code",
      "source": [
        "is_even('hekko')"
      ],
      "metadata": {
        "colab": {
          "base_uri": "https://localhost:8080/",
          "height": 36
        },
        "id": "zdaNL9j_GT13",
        "outputId": "81e9431e-da7d-4466-ce12-a28fe7792125"
      },
      "execution_count": 5,
      "outputs": [
        {
          "output_type": "execute_result",
          "data": {
            "text/plain": [
              "'only int value is valid'"
            ],
            "application/vnd.google.colaboratory.intrinsic+json": {
              "type": "string"
            }
          },
          "metadata": {},
          "execution_count": 5
        }
      ]
    },
    {
      "cell_type": "markdown",
      "source": [
        "Parameters or arguments\n",
        "- while creating a function the input is called parameter\n",
        "- when calling a function while using the input is called argument"
      ],
      "metadata": {
        "id": "mEAjC3a7M3yb"
      }
    },
    {
      "cell_type": "code",
      "source": [
        "# Default argument\n",
        "\n",
        "def power(a=1,b=1):\n",
        "  '''\n",
        "  This function return the power of the num\n",
        "  input - any valid integer number\n",
        "  output - power of the number\n",
        "\n",
        "  '''\n",
        "  if type(a) == int and type(b)==int:\n",
        "   return a ** b\n",
        "  else:\n",
        "   return 'Enter a valid integer only'"
      ],
      "metadata": {
        "id": "4wbdJnrIM9mw"
      },
      "execution_count": 17,
      "outputs": []
    },
    {
      "cell_type": "code",
      "source": [
        "power('dkfjeihwehekvm')"
      ],
      "metadata": {
        "colab": {
          "base_uri": "https://localhost:8080/",
          "height": 36
        },
        "id": "cYwIIwaTOvS6",
        "outputId": "724d55a8-2d40-4b94-a10f-16043146ef93"
      },
      "execution_count": 21,
      "outputs": [
        {
          "output_type": "execute_result",
          "data": {
            "text/plain": [
              "'Enter a valid integer only'"
            ],
            "application/vnd.google.colaboratory.intrinsic+json": {
              "type": "string"
            }
          },
          "metadata": {},
          "execution_count": 21
        }
      ]
    },
    {
      "cell_type": "markdown",
      "source": [
        "keyword argument\n",
        "- keyword arguments are arguments passed to a function by specifying the parameter name along with the value"
      ],
      "metadata": {
        "id": "BSGgEy6zYKPO"
      }
    },
    {
      "cell_type": "code",
      "source": [
        "# keyword argument\n",
        "\n",
        "power(b=3,a=2)\n",
        "\n"
      ],
      "metadata": {
        "colab": {
          "base_uri": "https://localhost:8080/"
        },
        "id": "M2UQF05EV0QQ",
        "outputId": "a450beba-e002-4013-bbf9-440141d50a56"
      },
      "execution_count": 23,
      "outputs": [
        {
          "output_type": "execute_result",
          "data": {
            "text/plain": [
              "8"
            ]
          },
          "metadata": {},
          "execution_count": 23
        }
      ]
    },
    {
      "cell_type": "markdown",
      "source": [
        "*args and **kwargs are special python keywords  that are used to pass the variable length of a argument to a function"
      ],
      "metadata": {
        "id": "XFi0ZG5sZfeY"
      }
    },
    {
      "cell_type": "code",
      "source": [
        "# args\n",
        "def add(*args):\n",
        "  '''\n",
        "This function return the addtition of the given number\n",
        "parameter -  n number of value with , seperated\n",
        "  '''\n",
        "  add= 0\n",
        "\n",
        "  for i in args:\n",
        "    add =  add + i\n",
        "  return(add)"
      ],
      "metadata": {
        "id": "ffXvrV3YbFdg"
      },
      "execution_count": 27,
      "outputs": []
    },
    {
      "cell_type": "code",
      "source": [
        "add(1,2,2)"
      ],
      "metadata": {
        "colab": {
          "base_uri": "https://localhost:8080/"
        },
        "id": "VJ6Jrs-abmIc",
        "outputId": "8ff7f133-06cc-4434-bde8-ae6e20a0d787"
      },
      "execution_count": 28,
      "outputs": [
        {
          "output_type": "execute_result",
          "data": {
            "text/plain": [
              "5"
            ]
          },
          "metadata": {},
          "execution_count": 28
        }
      ]
    },
    {
      "cell_type": "code",
      "source": [
        "def multiply(*args):\n",
        "  '''\n",
        "  This function return the multiplication of the number\n",
        "  parameter - n number of value with , seperated\n",
        "  '''\n",
        "  # if type(*args)== int:\n",
        "  product = 1\n",
        "\n",
        "  for i in args:\n",
        "    product = product * i\n",
        "  return product\n",
        "\n",
        "  # else:\n",
        "    # print('only A integer is valid ')"
      ],
      "metadata": {
        "id": "Gfplw6cIcM2v"
      },
      "execution_count": 53,
      "outputs": []
    },
    {
      "cell_type": "code",
      "source": [
        "multiply(2,2,2)"
      ],
      "metadata": {
        "colab": {
          "base_uri": "https://localhost:8080/"
        },
        "id": "j8BJeaD-dMap",
        "outputId": "1296800c-5a1f-4912-9900-2da482344b79"
      },
      "execution_count": 55,
      "outputs": [
        {
          "output_type": "execute_result",
          "data": {
            "text/plain": [
              "8"
            ]
          },
          "metadata": {},
          "execution_count": 55
        }
      ]
    },
    {
      "cell_type": "code",
      "source": [
        "def count_element(*args):\n",
        "  '''\n",
        "This function return the cout of element\n",
        "parameter -  you can give any kund of paramete\n",
        "  '''\n",
        "  total = 0\n",
        "  for i in args:\n",
        "    total = total + len(i)\n",
        "  return(total)"
      ],
      "metadata": {
        "id": "kZKW_7V-f19Y"
      },
      "execution_count": 45,
      "outputs": []
    },
    {
      "cell_type": "code",
      "source": [
        "count_element((\"Hello\", [1, 2, 3], (4, 5, 6), {\"a\": 1, \"b\": 2}))"
      ],
      "metadata": {
        "colab": {
          "base_uri": "https://localhost:8080/"
        },
        "id": "gDUk4VC5g0mT",
        "outputId": "eee462e6-1909-426c-860a-f96b9ed5653c"
      },
      "execution_count": 44,
      "outputs": [
        {
          "output_type": "execute_result",
          "data": {
            "text/plain": [
              "4"
            ]
          },
          "metadata": {},
          "execution_count": 44
        }
      ]
    },
    {
      "cell_type": "markdown",
      "source": [
        "- ** kwargs allow us to  pass any number of keyword argument\n",
        "-keyword argument mean that they contain a key-value pair like a python dictionary"
      ],
      "metadata": {
        "id": "VvdJ5eCSiHoS"
      }
    },
    {
      "cell_type": "code",
      "source": [
        "def display(**kwargs):\n",
        "\n",
        "\n",
        "  for key,value in kwargs.items():\n",
        "    print( key, '->',value)"
      ],
      "metadata": {
        "id": "IojBVCrxihT-"
      },
      "execution_count": 59,
      "outputs": []
    },
    {
      "cell_type": "code",
      "source": [
        "display(india='delhi',nepal='katmandu',china='crona')"
      ],
      "metadata": {
        "colab": {
          "base_uri": "https://localhost:8080/"
        },
        "id": "-4d59168jELZ",
        "outputId": "7ebed613-74ba-4ce7-f07a-5bd60f52f687"
      },
      "execution_count": 60,
      "outputs": [
        {
          "output_type": "stream",
          "name": "stdout",
          "text": [
            "india -> delhi\n",
            "nepal -> katmandu\n",
            "china -> crona\n"
          ]
        }
      ]
    },
    {
      "cell_type": "markdown",
      "source": [
        "Lambda Function\n",
        "- A lambda function is a small anonymous function\n",
        "- A lambda function  can take any number of arguments,but can have one expresssion"
      ],
      "metadata": {
        "id": "ZJSr0i57IZGj"
      }
    },
    {
      "cell_type": "code",
      "source": [
        "a = lambda x : x**2\n",
        "a(2)"
      ],
      "metadata": {
        "colab": {
          "base_uri": "https://localhost:8080/"
        },
        "id": "S2-VZFSFIyP5",
        "outputId": "5947dead-93de-4e8d-a33e-52087ca111b9"
      },
      "execution_count": 2,
      "outputs": [
        {
          "output_type": "execute_result",
          "data": {
            "text/plain": [
              "4"
            ]
          },
          "metadata": {},
          "execution_count": 2
        }
      ]
    },
    {
      "cell_type": "code",
      "source": [
        "b = lambda x,y: x+y\n",
        "b(2,3)"
      ],
      "metadata": {
        "colab": {
          "base_uri": "https://localhost:8080/"
        },
        "id": "fpiGJVSdJWy3",
        "outputId": "9157d0f4-1990-4dab-a8fb-cf53255e61cb"
      },
      "execution_count": 3,
      "outputs": [
        {
          "output_type": "execute_result",
          "data": {
            "text/plain": [
              "5"
            ]
          },
          "metadata": {},
          "execution_count": 3
        }
      ]
    },
    {
      "cell_type": "markdown",
      "source": [
        "Difference between lambda Vs Normal function\n",
        "\n",
        "- lambda funtion has no name\n",
        "- lambda has no return value its return a function\n",
        "-  lambda is written in one line\n",
        "- not reusable\n",
        "- lambda function are used in higher order function"
      ],
      "metadata": {
        "id": "e2PUVI_nJlev"
      }
    },
    {
      "cell_type": "code",
      "source": [
        "# check if a string has a\n",
        "\n",
        "q=  lambda s: 'a' in s\n",
        "q('hello')"
      ],
      "metadata": {
        "colab": {
          "base_uri": "https://localhost:8080/"
        },
        "id": "WVUcKMKYKBBv",
        "outputId": "c9eb3ed2-5b34-4515-e2ff-3522fbb994a0"
      },
      "execution_count": 4,
      "outputs": [
        {
          "output_type": "execute_result",
          "data": {
            "text/plain": [
              "False"
            ]
          },
          "metadata": {},
          "execution_count": 4
        }
      ]
    },
    {
      "cell_type": "code",
      "source": [
        "# odd and even\n",
        "a = lambda x :'even' if x%2 == 0 else 'odd'\n",
        "a(4)"
      ],
      "metadata": {
        "colab": {
          "base_uri": "https://localhost:8080/",
          "height": 36
        },
        "id": "8bPmE9daKr9W",
        "outputId": "b0b08b5b-ab44-4e02-be91-99b1b1acb8a2"
      },
      "execution_count": 5,
      "outputs": [
        {
          "output_type": "execute_result",
          "data": {
            "text/plain": [
              "'even'"
            ],
            "application/vnd.google.colaboratory.intrinsic+json": {
              "type": "string"
            }
          },
          "metadata": {},
          "execution_count": 5
        }
      ]
    },
    {
      "cell_type": "markdown",
      "source": [
        "higher order function"
      ],
      "metadata": {
        "id": "HzJAZ5JWLNEq"
      }
    },
    {
      "cell_type": "code",
      "source": [
        "# example\n",
        "\n",
        "def sq(x):\n",
        "  return x**2\n",
        "\n",
        "def tf(f,l):\n",
        "  output = []\n",
        "  for i in l:\n",
        "    output.append(f(i))\n",
        "\n",
        "  print(output)\n",
        "l= [1,2,3,4,5,6]\n",
        "\n",
        "# tf(sq,l)\n",
        "\n",
        "tf(lambda x:x**2,l)"
      ],
      "metadata": {
        "colab": {
          "base_uri": "https://localhost:8080/"
        },
        "id": "a5KhP1-aLMiN",
        "outputId": "bed37855-358b-4cfc-fcd0-73504e122699"
      },
      "execution_count": 7,
      "outputs": [
        {
          "output_type": "stream",
          "name": "stdout",
          "text": [
            "[1, 4, 9, 16, 25, 36]\n"
          ]
        }
      ]
    },
    {
      "cell_type": "markdown",
      "source": [
        "map"
      ],
      "metadata": {
        "id": "l8UYZQK9MazH"
      }
    },
    {
      "cell_type": "code",
      "source": [
        "# square the items of a list\n",
        "\n",
        "list(map(lambda x:x**2,[1,2,3,4,5,6]))"
      ],
      "metadata": {
        "colab": {
          "base_uri": "https://localhost:8080/"
        },
        "id": "fU-ndquDMaZU",
        "outputId": "aa70bfa5-f179-4ee0-8509-766846f318af"
      },
      "execution_count": 10,
      "outputs": [
        {
          "output_type": "execute_result",
          "data": {
            "text/plain": [
              "[1, 4, 9, 16, 25, 36]"
            ]
          },
          "metadata": {},
          "execution_count": 10
        }
      ]
    },
    {
      "cell_type": "code",
      "source": [
        "# odd/even labelling of the list items\n",
        "\n",
        "l = [1,2,3,4,5,6]\n",
        "\n",
        "list(map(lambda x: 'even' if x%2==0 else 'odd',l))"
      ],
      "metadata": {
        "colab": {
          "base_uri": "https://localhost:8080/",
          "height": 36
        },
        "id": "KlI2B2HFM4Ra",
        "outputId": "199dd924-5905-4e05-d68d-d4165abbc020"
      },
      "execution_count": 16,
      "outputs": [
        {
          "output_type": "execute_result",
          "data": {
            "text/plain": [
              "'even'"
            ],
            "application/vnd.google.colaboratory.intrinsic+json": {
              "type": "string"
            }
          },
          "metadata": {},
          "execution_count": 16
        }
      ]
    },
    {
      "cell_type": "code",
      "source": [
        "# extract name from a list of dict\n",
        "\n",
        "users = [\n",
        "{\n",
        "'name': 'Rahul',\n",
        "'age':45,\n",
        "'gender': 'male'\n",
        "},\n",
        "{\n",
        "'name': 'Nitish',\n",
        "'age':33,\n",
        "'gender': 'male'\n",
        "},\n",
        "{\n",
        "'name': 'Ankita',\n",
        "'age':50,\n",
        "'gender': 'female'\n",
        "}\n",
        "]\n",
        "\n",
        "\n",
        "list(map(lambda user:user['name'],users))\n"
      ],
      "metadata": {
        "colab": {
          "base_uri": "https://localhost:8080/"
        },
        "id": "SqtzYKVgN-Su",
        "outputId": "aaea92b9-619b-4c5b-c131-b4c373e89ffd"
      },
      "execution_count": 20,
      "outputs": [
        {
          "output_type": "execute_result",
          "data": {
            "text/plain": [
              "['Rahul', 'Nitish', 'Ankita']"
            ]
          },
          "metadata": {},
          "execution_count": 20
        }
      ]
    },
    {
      "cell_type": "markdown",
      "source": [
        "filter"
      ],
      "metadata": {
        "id": "dqBQqLynO7qx"
      }
    },
    {
      "cell_type": "code",
      "source": [
        "list(filter(lambda x: x>5,[1,2,3,4,5,6,7,8]))"
      ],
      "metadata": {
        "colab": {
          "base_uri": "https://localhost:8080/"
        },
        "id": "aKe5vgN0O8_o",
        "outputId": "e0f56d10-f204-4305-8187-73028339c7f9"
      },
      "execution_count": 21,
      "outputs": [
        {
          "output_type": "execute_result",
          "data": {
            "text/plain": [
              "[6, 7, 8]"
            ]
          },
          "metadata": {},
          "execution_count": 21
        }
      ]
    },
    {
      "cell_type": "code",
      "source": [
        "fruits= ['apple','mango','orange']\n",
        "\n",
        "list(filter(lambda x: x.startswith('a'),fruits))"
      ],
      "metadata": {
        "colab": {
          "base_uri": "https://localhost:8080/"
        },
        "id": "U5D6Eu23PXEw",
        "outputId": "7c4f4a3e-c0b5-4da5-a0b9-6daf1acf4f80"
      },
      "execution_count": 28,
      "outputs": [
        {
          "output_type": "execute_result",
          "data": {
            "text/plain": [
              "['apple']"
            ]
          },
          "metadata": {},
          "execution_count": 28
        }
      ]
    },
    {
      "cell_type": "markdown",
      "source": [
        "reduce"
      ],
      "metadata": {
        "id": "DMHQu9mBP-tI"
      }
    },
    {
      "cell_type": "code",
      "source": [
        "import functools\n",
        "functools.reduce(lambda x,y: x+y,[1,2,3,4,5,6])"
      ],
      "metadata": {
        "colab": {
          "base_uri": "https://localhost:8080/"
        },
        "id": "Ta56doIFP_4q",
        "outputId": "3fddd651-0efa-4158-98b2-e82479ac2e0f"
      },
      "execution_count": 29,
      "outputs": [
        {
          "output_type": "execute_result",
          "data": {
            "text/plain": [
              "21"
            ]
          },
          "metadata": {},
          "execution_count": 29
        }
      ]
    },
    {
      "cell_type": "code",
      "source": [
        "# find the max\n",
        "\n",
        "list[functools.reduce(lambda x,y:x if x>y else y,[1,5,7,4,7,9,3])]"
      ],
      "metadata": {
        "colab": {
          "base_uri": "https://localhost:8080/"
        },
        "id": "Ced-ggF0Q78-",
        "outputId": "87aa55e4-19b8-41e5-ba13-7e52b26256a9"
      },
      "execution_count": 32,
      "outputs": [
        {
          "output_type": "execute_result",
          "data": {
            "text/plain": [
              "list[9]"
            ]
          },
          "metadata": {},
          "execution_count": 32
        }
      ]
    }
  ]
}