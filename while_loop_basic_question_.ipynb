{
  "nbformat": 4,
  "nbformat_minor": 0,
  "metadata": {
    "colab": {
      "private_outputs": true,
      "provenance": [],
      "authorship_tag": "ABX9TyNM1fMOgEbISspukNOvgNyj",
      "include_colab_link": true
    },
    "kernelspec": {
      "name": "python3",
      "display_name": "Python 3"
    },
    "language_info": {
      "name": "python"
    }
  },
  "cells": [
    {
      "cell_type": "markdown",
      "metadata": {
        "id": "view-in-github",
        "colab_type": "text"
      },
      "source": [
        "<a href=\"https://colab.research.google.com/github/nikesh11xx/Data-to-Decision-blog/blob/main/while_loop_basic_question_.ipynb\" target=\"_parent\"><img src=\"https://colab.research.google.com/assets/colab-badge.svg\" alt=\"Open In Colab\"/></a>"
      ]
    },
    {
      "cell_type": "markdown",
      "source": [
        "- Need for loops\n",
        "- While loop\n",
        "- for loop"
      ],
      "metadata": {
        "id": "Ad_vh-rlfISx"
      }
    },
    {
      "cell_type": "code",
      "execution_count": null,
      "metadata": {
        "id": "Ysrl3tl8daE6"
      },
      "outputs": [],
      "source": [
        "number = int(input('Enter the number '))\n",
        "i=1\n",
        "while i<11:\n",
        "  print(number,'x',i,'=',number * i)\n",
        "  i +=1"
      ]
    },
    {
      "cell_type": "markdown",
      "source": [
        "# while loop with else"
      ],
      "metadata": {
        "id": "yjAZjuxQgmvm"
      }
    },
    {
      "cell_type": "code",
      "source": [
        "x = 1\n",
        "\n",
        "while x < 3:\n",
        "  print(x)\n",
        "  x +=1\n",
        "\n",
        "else:\n",
        "  print('limit crossed')"
      ],
      "metadata": {
        "id": "1mAiu7r6gl5g"
      },
      "execution_count": null,
      "outputs": []
    },
    {
      "cell_type": "markdown",
      "source": [
        "# Guessing game"
      ],
      "metadata": {
        "id": "UGQZIK2lhAgX"
      }
    },
    {
      "cell_type": "code",
      "source": [
        "import random\n",
        "\n",
        "jackport = random.randint(1,100)\n",
        "\n",
        "guess = int(input('Enter the number '))\n",
        "count = 1\n",
        "while guess !=jackport:\n",
        "\n",
        "  if guess < jackport:\n",
        "    print('Guess high')\n",
        "  else:\n",
        "    print('Guess low')\n",
        "\n",
        "  guess = int(input('Enter the number '))\n",
        "  count +=1\n",
        "\n",
        "else:\n",
        "  print('correct guess')\n",
        "  print('attempts', count)"
      ],
      "metadata": {
        "id": "nxXwTDA4hOUf"
      },
      "execution_count": null,
      "outputs": []
    },
    {
      "cell_type": "code",
      "source": [
        "jack = random.randint(1,100)\n",
        "\n",
        "guess = int(input('Enter num '))\n",
        "\n",
        "count = 0\n",
        "i =1\n",
        "\n",
        "while guess != jack:\n",
        "  if guess > jack:\n",
        "    print('Enter low')\n",
        "  else:\n",
        "    print('guess high')\n",
        "  guess = int(input('Enter num '))\n",
        "  count = count+1\n",
        "else:\n",
        "  print('correct guess')\n"
      ],
      "metadata": {
        "id": "a9dbxON8lcCE"
      },
      "execution_count": null,
      "outputs": []
    },
    {
      "cell_type": "markdown",
      "source": [
        " Write a Python program to print numbers from 1 to 10 using a while loop"
      ],
      "metadata": {
        "id": "rLDQylj_mgra"
      }
    },
    {
      "cell_type": "code",
      "source": [
        "num = 1\n",
        "\n",
        "while num <=10:\n",
        "  print(num)\n",
        "  num +=1"
      ],
      "metadata": {
        "id": "jy6wEC7tmhsN"
      },
      "execution_count": null,
      "outputs": []
    },
    {
      "cell_type": "markdown",
      "source": [
        "Write a Python program to find the sum of all numbers from 1 to 100 using a while loop."
      ],
      "metadata": {
        "id": "9vRjTbfknoM9"
      }
    },
    {
      "cell_type": "code",
      "source": [
        "num = 1\n",
        "sum = 0\n",
        "\n",
        "while num <=100:\n",
        "  sum +=num\n",
        "\n",
        "  num +=1\n",
        "print(sum)"
      ],
      "metadata": {
        "id": "Vr8Os-zInmwh"
      },
      "execution_count": null,
      "outputs": []
    },
    {
      "cell_type": "markdown",
      "source": [
        " Write a Python program to find the factorial of a given number using a while loop."
      ],
      "metadata": {
        "id": "mCm35mbEipzv"
      }
    },
    {
      "cell_type": "code",
      "source": [
        "num = int(input('Enter a number '))\n",
        "factorial = 1\n",
        "\n",
        "while num > 0:\n",
        "  factorial *= num\n",
        "  num -=1\n",
        "print('Factorial:', factorial)"
      ],
      "metadata": {
        "id": "6DBS0Gd1iq1l"
      },
      "execution_count": null,
      "outputs": []
    },
    {
      "cell_type": "markdown",
      "source": [
        " Write a Python program to reverse a given integer using a while loop."
      ],
      "metadata": {
        "id": "5a1BBNgHoNND"
      }
    },
    {
      "cell_type": "code",
      "source": [
        "num = int(input('Enter num '))\n",
        "\n",
        "reversed = 0\n",
        "\n",
        "while num != 0:\n",
        "  remainder = num % 10\n",
        "  reversed = reversed * 10 + remainder\n",
        "  num = num // 10\n",
        "print(reversed)"
      ],
      "metadata": {
        "id": "1AOrWjRvjho5"
      },
      "execution_count": null,
      "outputs": []
    },
    {
      "cell_type": "markdown",
      "source": [
        " Write a Python program to check if a given number is prime or not using a while loop."
      ],
      "metadata": {
        "id": "B3I4ffO5phcN"
      }
    },
    {
      "cell_type": "code",
      "source": [
        "num = int(input('Enter a num '))\n",
        "\n",
        "i = 2\n",
        "n = 0\n",
        "\n",
        "while i < num:\n",
        "  if num % i == 0:\n",
        "    n=1\n",
        "    break\n",
        "  i=i+1\n",
        "if n ==0:\n",
        "  print(num,'is a prime number ')\n",
        "elif num==1:\n",
        "  print(num,' is not a prime number')"
      ],
      "metadata": {
        "id": "A-cXXSQLpjEg"
      },
      "execution_count": null,
      "outputs": []
    },
    {
      "cell_type": "markdown",
      "source": [
        "Write a Python program to print Fibonacci series up to a given number using a while loop."
      ],
      "metadata": {
        "id": "mAgAxEd0zCqT"
      }
    },
    {
      "cell_type": "code",
      "source": [
        "num = int(input('Enter number '))\n",
        "a = 0\n",
        "b = 1\n",
        "\n",
        "print('Fibonacci series up to ', num)\n",
        "while a <= num:\n",
        "  print(a,end=' ')\n",
        "  a,b = b, a+b"
      ],
      "metadata": {
        "id": "cqzEafSBvqzb"
      },
      "execution_count": null,
      "outputs": []
    },
    {
      "cell_type": "markdown",
      "source": [
        " Write a Python program to print a pattern of asterisks (*) using a while loop."
      ],
      "metadata": {
        "id": "Qxmv1XPe5OCS"
      }
    },
    {
      "cell_type": "code",
      "source": [
        "rows = int(input('Enter num' ))\n",
        "\n",
        "i = 1\n",
        "while i <= rows:\n",
        "  print('a' * i)\n",
        "  i +=1"
      ],
      "metadata": {
        "id": "wWbdavrw5Ovp"
      },
      "execution_count": null,
      "outputs": []
    },
    {
      "cell_type": "markdown",
      "source": [
        "Write a Python program to simulate a simple calculator using a while loop."
      ],
      "metadata": {
        "id": "7EmynN8NB9SL"
      }
    },
    {
      "cell_type": "code",
      "source": [
        "while True:\n",
        "  print('Options')\n",
        "  print('1. Addition')\n",
        "  print('2. Substraction')\n",
        "  print('3. Multiplication')\n",
        "  print('4. Division')\n",
        "  print('5. Exit')\n",
        "\n",
        "  choice = int(input('Enter your choice: '))\n",
        "  if choice ==5:\n",
        "    break\n",
        "  num1 = eval(input('Enter 1st your number '))\n",
        "  num2 = eval(input('Enter 2nd your number '))\n",
        "  if choice == 1:\n",
        "    print('Result ', num1 + num2)\n",
        "  elif choice == 2:\n",
        "    print('Result ', num1 - num2)\n",
        "  elif choice == 3:\n",
        "    print('Result ', num1 * num2)\n",
        "  elif choice == 4:\n",
        "    if num2 == 0:\n",
        "      print('cannot divided by zero')\n",
        "    else:\n",
        "      print('Result ', num1 / num2)\n",
        "  else:\n",
        "    print('invalid choice')"
      ],
      "metadata": {
        "id": "V63TBOyOB-HM"
      },
      "execution_count": null,
      "outputs": []
    }
  ]
}