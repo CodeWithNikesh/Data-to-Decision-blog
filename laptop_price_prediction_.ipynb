{
  "nbformat": 4,
  "nbformat_minor": 0,
  "metadata": {
    "colab": {
      "private_outputs": true,
      "provenance": [],
      "mount_file_id": "14KyMpTBkFG9agbVJ4qc5b4AgWIN9OnU-",
      "authorship_tag": "ABX9TyO5pTxDzBiac6tLuKyJGtZs",
      "include_colab_link": true
    },
    "kernelspec": {
      "name": "python3",
      "display_name": "Python 3"
    },
    "language_info": {
      "name": "python"
    }
  },
  "cells": [
    {
      "cell_type": "markdown",
      "metadata": {
        "id": "view-in-github",
        "colab_type": "text"
      },
      "source": [
        "<a href=\"https://colab.research.google.com/github/nikesh11xx/Data-to-Decision-blog/blob/main/laptop_price_prediction_.ipynb\" target=\"_parent\"><img src=\"https://colab.research.google.com/assets/colab-badge.svg\" alt=\"Open In Colab\"/></a>"
      ]
    },
    {
      "cell_type": "markdown",
      "source": [
        "name = Nikesh kumar singh\n",
        "\n",
        "\n",
        "github : https://github.com/nikesh11xx/Data-to-Decision-blog/blob/cf982642018fe4e1609bb48f46682205237e9ef1/laptop_price_prediction_.ipynb"
      ],
      "metadata": {
        "id": "dfMX1n5cp6p4"
      }
    },
    {
      "cell_type": "markdown",
      "source": [
        "#Summary"
      ],
      "metadata": {
        "id": "sWwwyFebmmw3"
      }
    },
    {
      "cell_type": "markdown",
      "source": [
        "\n",
        "The dataset contains information about laptop specifications and prices. It has 1333 rows and 13 columns. The columns include laptop company, type name, RAM, weight, touch screen availability, IPS display availability, CPU brand, price, PPI, and operating system.\n",
        "\n",
        "The data is generally clean and free of missing values or duplicates. However, the RAM and weight columns were converted to integer and float data types, respectively, to improve data consistency.\n",
        "\n",
        "The dataset provides insights into the relationship between laptop features and prices. For example, laptops with higher RAM and larger screen sizes tend to have higher prices. Additionally, the presence of touch screen and IPS display features also contributes to higher prices.\n",
        "\n",
        "Overall, the dataset is suitable for building machine learning models to predict laptop prices based on their specifications.\n"
      ],
      "metadata": {
        "id": "NK-7-qSIk7BR"
      }
    },
    {
      "cell_type": "markdown",
      "source": [
        "##Aim of the projects\n",
        "\n",
        "**Problem Statement:**\n",
        "\n",
        "Given a dataset containing information about laptops, the goal is to build a machine learning model that can predict the price of a laptop based on its features. The dataset includes various features such as brand, processor, RAM, storage, and display size.\n",
        "\n",
        "**Objective:**\n",
        "\n",
        "The objective is to develop a model that can accurately estimate the price of a laptop given its specifications. This model can be used by consumers to make informed decisions when purchasing a laptop, and by manufacturers to optimize their pricing strategies.\n",
        "\n",
        "**Data Description:**\n",
        "\n",
        "The dataset contains the following features:\n",
        "\n",
        "* Brand: The brand of the laptop (e.g., Apple, Dell, HP, Lenovo).\n",
        "* Processor: The type of processor (e.g., Intel Core i3, Intel Core i5, Intel Core i7).\n",
        "* RAM: The amount of RAM in gigabytes (GB).\n",
        "* Storage: The storage capacity in gigabytes (GB).\n",
        "* Display Size: The size of the display in inches.\n",
        "* Price: The price of the laptop in US dollars.\n",
        "\n",
        "**Challenges:**\n",
        "\n",
        "* The dataset may contain outliers or missing values that need to be handled appropriately.\n",
        "* The features may have different scales, which can affect the model's performance.\n",
        "* The relationship between the features and the price may be complex and non-linear.\n",
        "\n",
        "**Potential Solutions:**\n",
        "\n",
        "* Use data preprocessing techniques such as scaling and imputation to handle outliers and missing values.\n",
        "* Explore different machine learning algorithms and select the one that best suits the data and the problem.\n",
        "* Consider using ensemble methods or deep learning models to capture complex relationships between features and the price.\n",
        "\n",
        "**Evaluation Metrics:**\n",
        "\n",
        "* The performance of the model can be evaluated using metrics such as mean absolute error (MAE), mean squared error (MSE), and root mean squared error (RMSE).\n"
      ],
      "metadata": {
        "id": "mpfZ13bNltdo"
      }
    },
    {
      "cell_type": "markdown",
      "source": [
        "#Loading libaries"
      ],
      "metadata": {
        "id": "HjjJJgDePfxO"
      }
    },
    {
      "cell_type": "code",
      "execution_count": null,
      "metadata": {
        "id": "buBfo0drNtiW"
      },
      "outputs": [],
      "source": [
        "import numpy as np\n",
        "import pandas as pd\n",
        "\n",
        "import matplotlib.pyplot as plt\n",
        "import seaborn as sns\n",
        "from sklearn.model_selection import train_test_split\n",
        "from  sklearn.compose import ColumnTransformer\n",
        "from sklearn.pipeline import Pipeline\n",
        "from sklearn.preprocessing import OneHotEncoder\n",
        "\n",
        "from sklearn.linear_model import LinearRegression,Ridge,Lasso\n",
        "from sklearn.neighbors import KNeighborsRegressor\n",
        "from sklearn.tree import DecisionTreeRegressor\n",
        "from sklearn.ensemble import RandomForestRegressor,GradientBoostingRegressor,AdaBoostRegressor,ExtraTreesRegressor\n",
        "from sklearn.svm import SVR\n",
        "from xgboost import XGBRegressor\n",
        "\n",
        "from sklearn.metrics import r2_score,mean_absolute_error"
      ]
    },
    {
      "cell_type": "markdown",
      "source": [
        "#loading datase"
      ],
      "metadata": {
        "id": "Kd5nJBe4Pwa8"
      }
    },
    {
      "cell_type": "code",
      "source": [
        "from google.colab import drive\n",
        "drive.mount('/content/drive')"
      ],
      "metadata": {
        "id": "Vjw_Q9g7P0ev"
      },
      "execution_count": null,
      "outputs": []
    },
    {
      "cell_type": "code",
      "source": [
        "df = pd.read_csv('/content/drive/MyDrive/csv data/laptop_data (1).csv')\n"
      ],
      "metadata": {
        "id": "YQ3wR5WsQIT0"
      },
      "execution_count": null,
      "outputs": []
    },
    {
      "cell_type": "markdown",
      "source": [
        "top 5 data view"
      ],
      "metadata": {
        "id": "S1nmpX20QkzC"
      }
    },
    {
      "cell_type": "code",
      "source": [
        "df.head(5)"
      ],
      "metadata": {
        "id": "Zrm8zSzeQqcZ"
      },
      "execution_count": null,
      "outputs": []
    },
    {
      "cell_type": "markdown",
      "source": [
        "tail"
      ],
      "metadata": {
        "id": "tqLU8DVvQvJs"
      }
    },
    {
      "cell_type": "code",
      "source": [
        "df.tail(5)"
      ],
      "metadata": {
        "id": "tM0nMl9fQt-M"
      },
      "execution_count": null,
      "outputs": []
    },
    {
      "cell_type": "markdown",
      "source": [
        "#data rows and columns"
      ],
      "metadata": {
        "id": "BPsP5vo0Q7qB"
      }
    },
    {
      "cell_type": "code",
      "source": [
        "r,c = df.shape\n",
        "print(f'there are {r} rows and {c} columns in our dataset')"
      ],
      "metadata": {
        "id": "TOS3N_YAQ7GX"
      },
      "execution_count": null,
      "outputs": []
    },
    {
      "cell_type": "markdown",
      "source": [
        "#data info"
      ],
      "metadata": {
        "id": "e7p_5j3TSp-t"
      }
    },
    {
      "cell_type": "code",
      "source": [
        "df.info()"
      ],
      "metadata": {
        "id": "xNy8NUGQSsgV"
      },
      "execution_count": null,
      "outputs": []
    },
    {
      "cell_type": "markdown",
      "source": [
        "#Duplicate value"
      ],
      "metadata": {
        "id": "ycK3N7azRlGT"
      }
    },
    {
      "cell_type": "code",
      "source": [
        "df.duplicated().sum()"
      ],
      "metadata": {
        "id": "R4Py4iDERobR"
      },
      "execution_count": null,
      "outputs": []
    },
    {
      "cell_type": "markdown",
      "source": [
        "there is 0 duplicate values in our dataset"
      ],
      "metadata": {
        "id": "0yufPhs2RvYO"
      }
    },
    {
      "cell_type": "markdown",
      "source": [
        "# missing values"
      ],
      "metadata": {
        "id": "rZJoLMGIR0xp"
      }
    },
    {
      "cell_type": "code",
      "source": [
        "df.isnull().sum()"
      ],
      "metadata": {
        "id": "nctR7lEfRztF"
      },
      "execution_count": null,
      "outputs": []
    },
    {
      "cell_type": "markdown",
      "source": [
        "there is no missing or null values in our dataset"
      ],
      "metadata": {
        "id": "jiRty5LIR8iD"
      }
    },
    {
      "cell_type": "code",
      "source": [],
      "metadata": {
        "id": "6EgPKMsdSCjO"
      },
      "execution_count": null,
      "outputs": []
    },
    {
      "cell_type": "markdown",
      "source": [
        "# summary of all variables"
      ],
      "metadata": {
        "id": "7b0VGxxmS44O"
      }
    },
    {
      "cell_type": "code",
      "source": [
        "df.describe(include='all')"
      ],
      "metadata": {
        "id": "TEHyj7W4S-Hb"
      },
      "execution_count": null,
      "outputs": []
    },
    {
      "cell_type": "markdown",
      "source": [
        "# numerical feature and object featur"
      ],
      "metadata": {
        "id": "b7rspoJSTFwk"
      }
    },
    {
      "cell_type": "code",
      "source": [
        "numerical_feature = [i for i in df.columns if df[i].dtype != 'object']\n",
        "\n",
        "object_features =  [i for i in df.columns if df[i].dtype == 'object']\n",
        "\n",
        "print('Numerical_feature: ', numerical_feature)\n",
        "print('object_features: ', object_features)"
      ],
      "metadata": {
        "id": "7o1jb6QET6Ii"
      },
      "execution_count": null,
      "outputs": []
    },
    {
      "cell_type": "markdown",
      "source": [
        "#Drop the unnecessary data"
      ],
      "metadata": {
        "id": "xhVkTcToVJ4k"
      }
    },
    {
      "cell_type": "code",
      "source": [
        "df.drop(['Unnamed: 0'],axis=1,inplace=True)"
      ],
      "metadata": {
        "id": "K5v-7J-bVTvI"
      },
      "execution_count": null,
      "outputs": []
    },
    {
      "cell_type": "code",
      "source": [
        "df"
      ],
      "metadata": {
        "id": "5wnlazhSVm-E"
      },
      "execution_count": null,
      "outputs": []
    },
    {
      "cell_type": "markdown",
      "source": [
        "# Data wrangling"
      ],
      "metadata": {
        "id": "M4amGArZVuzB"
      }
    },
    {
      "cell_type": "code",
      "source": [
        "# removing gb from the ram columns and kg from weight\n",
        "\n",
        "df['Ram'] = df['Ram'].str.replace('GB','')\n",
        "df['Weight'] = df['Weight'].str.replace('kg','')"
      ],
      "metadata": {
        "id": "zDRhZ-GjVvoo"
      },
      "execution_count": null,
      "outputs": []
    },
    {
      "cell_type": "code",
      "source": [
        "# changing data type object to  int and float\n",
        "df['Ram'] = df['Ram'].astype('int32')\n",
        "df['Weight'] = df['Weight'].astype('float32')"
      ],
      "metadata": {
        "id": "23K4M8LyXBKX"
      },
      "execution_count": null,
      "outputs": []
    },
    {
      "cell_type": "markdown",
      "source": [
        "#Univariate analysis"
      ],
      "metadata": {
        "id": "5g-sY0Q1Vv75"
      }
    },
    {
      "cell_type": "code",
      "source": [
        "sns.distplot(df['Price'])\n",
        "plt.title('Price distribution')\n",
        "plt.show()"
      ],
      "metadata": {
        "id": "qa2iVXaMVwUC"
      },
      "execution_count": null,
      "outputs": []
    },
    {
      "cell_type": "markdown",
      "source": [
        "## chart2"
      ],
      "metadata": {
        "id": "mcXFOdxnnaKs"
      }
    },
    {
      "cell_type": "code",
      "source": [
        "sns.barplot(y = df['Company'].value_counts().index,x=df['Company'].value_counts().values,orient='h',palette='viridis')\n",
        "\n",
        "\n",
        "for i,v in enumerate(df['Company'].value_counts()):\n",
        "  plt.text(v,i,str(v))\n",
        "\n",
        "plt.title('Horizontal Bar Plot of Laptop Brands with Counts')\n",
        "plt.ylabel('Brand name')\n",
        "plt.xlabel('Number of laptop')\n",
        "plt.show()"
      ],
      "metadata": {
        "id": "dCdkWCIUh1nv"
      },
      "execution_count": null,
      "outputs": []
    },
    {
      "cell_type": "markdown",
      "source": [
        "## chart 3"
      ],
      "metadata": {
        "id": "b8ubYZ1wnehU"
      }
    },
    {
      "cell_type": "code",
      "source": [
        "sns.barplot(x=df['Price'],y=df['Company'],palette='spring')\n",
        "plt.title('Comparison of Laptop Prices by Company')\n",
        "plt.show()"
      ],
      "metadata": {
        "id": "Onad5e7MkMpd"
      },
      "execution_count": null,
      "outputs": []
    },
    {
      "cell_type": "markdown",
      "source": [
        "## chart 4"
      ],
      "metadata": {
        "id": "VpPRA7c2Vwt_"
      }
    },
    {
      "cell_type": "code",
      "source": [
        "sns.barplot(y=df['TypeName'].value_counts().index,x=df['TypeName'].value_counts().values,palette='husl')\n",
        "\n",
        "plt.title(\"Frequency of Laptop Types\")\n",
        "plt.ylabel('laptop type')\n",
        "plt.xlabel('count of laptop')\n",
        "for i,v in enumerate(df['TypeName'].value_counts()):\n",
        "  plt.text(v,i,str(v))"
      ],
      "metadata": {
        "id": "UDmxcTDhVxAm"
      },
      "execution_count": null,
      "outputs": []
    },
    {
      "cell_type": "markdown",
      "source": [
        "##chart5"
      ],
      "metadata": {
        "id": "xZFMsss4nmRl"
      }
    },
    {
      "cell_type": "code",
      "source": [
        "sns.barplot(y=df['TypeName'],x=df['Price'],palette='husl')"
      ],
      "metadata": {
        "id": "Pfb7WNI3rXG7"
      },
      "execution_count": null,
      "outputs": []
    },
    {
      "cell_type": "markdown",
      "source": [
        "##chart 6"
      ],
      "metadata": {
        "id": "anLle8QWnqXq"
      }
    },
    {
      "cell_type": "code",
      "source": [
        "sns.distplot(df['Inches'])"
      ],
      "metadata": {
        "id": "T9ZirgupsPSn"
      },
      "execution_count": null,
      "outputs": []
    },
    {
      "cell_type": "markdown",
      "source": [
        "##chart 7"
      ],
      "metadata": {
        "id": "BkLusuNqnt_D"
      }
    },
    {
      "cell_type": "code",
      "source": [
        "sns.scatterplot(x=df['Inches'],y=df['Price'])"
      ],
      "metadata": {
        "id": "eSdu7Z6jsYI1"
      },
      "execution_count": null,
      "outputs": []
    },
    {
      "cell_type": "markdown",
      "source": [
        "there is not a strong relationship between price and screen size"
      ],
      "metadata": {
        "id": "TrdqwyJissnL"
      }
    },
    {
      "cell_type": "markdown",
      "source": [
        "#creating touchscreen column"
      ],
      "metadata": {
        "id": "brfy8qG0VxRM"
      }
    },
    {
      "cell_type": "code",
      "source": [
        "df['Touchscreen'] = df['ScreenResolution'].apply(lambda x:1 if 'Touchscreen' in x else 0)"
      ],
      "metadata": {
        "id": "O8Oyj1dNVx3V"
      },
      "execution_count": null,
      "outputs": []
    },
    {
      "cell_type": "markdown",
      "source": [
        "chart 8"
      ],
      "metadata": {
        "id": "_-8AZ_PBoCCP"
      }
    },
    {
      "cell_type": "code",
      "source": [
        "\n",
        "sns.barplot(x=df['Touchscreen'].value_counts().index, y=df['Touchscreen'].value_counts().values,palette='rocket')\n",
        "plt.xlabel('Touchscreen')\n",
        "plt.ylabel('Count')\n",
        "plt.title('Number of Laptops with and without Touchscreen')\n",
        "\n",
        "\n",
        "\n",
        "for i,v in enumerate(df['Touchscreen'].value_counts().values):\n",
        "  plt.text(i,v,str(v))\n",
        "plt.show()\n"
      ],
      "metadata": {
        "id": "19U1pTsjzn9V"
      },
      "execution_count": null,
      "outputs": []
    },
    {
      "cell_type": "markdown",
      "source": [
        "chart 9"
      ],
      "metadata": {
        "id": "W0nky37soGNr"
      }
    },
    {
      "cell_type": "code",
      "source": [
        "sns.barplot(x=df['Touchscreen'],y=df['Price'],palette='colorblind')\n",
        "sns.set(style=\"whitegrid\")\n",
        "\n",
        "plt.title('Price of Laptops with and without Touchscreen')\n",
        "plt.show()\n"
      ],
      "metadata": {
        "id": "jj80xPIj2DHb"
      },
      "execution_count": null,
      "outputs": []
    },
    {
      "cell_type": "markdown",
      "source": [
        "# creating Ips columns"
      ],
      "metadata": {
        "id": "rTSKyMCGVyNY"
      }
    },
    {
      "cell_type": "code",
      "source": [
        "df['Ips'] = df['ScreenResolution'].apply(lambda x:1 if 'IPS' in x else 0)"
      ],
      "metadata": {
        "id": "N8K4EFgh4E_L"
      },
      "execution_count": null,
      "outputs": []
    },
    {
      "cell_type": "markdown",
      "source": [
        "chart 10"
      ],
      "metadata": {
        "id": "tgxi9os0oOrg"
      }
    },
    {
      "cell_type": "code",
      "source": [
        "sns.barplot(x=df['Ips'].value_counts().index,y=df['Ips'].value_counts().values,palette='colorblind')\n",
        "plt.title(\"Number of Laptops with and without IPS Display\")\n",
        "\n",
        "for i,v in enumerate(df['Ips'].value_counts().values):\n",
        "  plt.text(i,v,str(v))\n"
      ],
      "metadata": {
        "id": "fjUgsQ9i4b_s"
      },
      "execution_count": null,
      "outputs": []
    },
    {
      "cell_type": "markdown",
      "source": [
        "chart 11"
      ],
      "metadata": {
        "id": "vbzyD1PQoR1R"
      }
    },
    {
      "cell_type": "code",
      "source": [
        "sns.barplot(x=df['Ips'],y=df['Price'],palette='mako')\n",
        "plt.title('\"Price Comparison of Laptops with and without IPS Display\"')"
      ],
      "metadata": {
        "id": "NwuR2yrgFI5A"
      },
      "execution_count": null,
      "outputs": []
    },
    {
      "cell_type": "code",
      "source": [
        "new = df['ScreenResolution'].str.split('x',n=1,expand=True)"
      ],
      "metadata": {
        "id": "LRA8T7p6Hh7k"
      },
      "execution_count": null,
      "outputs": []
    },
    {
      "cell_type": "code",
      "source": [
        "df['X_res'] = new[0]\n",
        "df['Y_res'] = new[1]\n"
      ],
      "metadata": {
        "id": "9F0PNS_HHuWA"
      },
      "execution_count": null,
      "outputs": []
    },
    {
      "cell_type": "code",
      "source": [
        "df['X_res'] = df['X_res'].str.replace(',','').str.findall(r'(\\d+\\.?\\d+)').apply(lambda x:x[0])"
      ],
      "metadata": {
        "id": "w4hXw9QyZzDq"
      },
      "execution_count": null,
      "outputs": []
    },
    {
      "cell_type": "code",
      "source": [
        "# changing the data type\n",
        "\n",
        "df['X_res'] = df['X_res'].astype('int32')\n",
        "df['Y_res'] = df['Y_res'].astype('int32')"
      ],
      "metadata": {
        "id": "Bm3ZD3Kbe5Oc"
      },
      "execution_count": null,
      "outputs": []
    },
    {
      "cell_type": "code",
      "source": [
        "# checking corr relation\n",
        "df.corr()['Price']"
      ],
      "metadata": {
        "id": "NXtDfLPHgXWb"
      },
      "execution_count": null,
      "outputs": []
    },
    {
      "cell_type": "code",
      "source": [
        "# creating ppi columns from x_res,y_res and inches columns\n",
        "df['ppi'] = (((df['X_res']**2) + (df['Y_res']**2))**0.5/df['Inches']).astype('float')"
      ],
      "metadata": {
        "id": "SfZK7ICMgxi-"
      },
      "execution_count": null,
      "outputs": []
    },
    {
      "cell_type": "markdown",
      "source": [],
      "metadata": {
        "id": "fEYb1BSaiFIv"
      }
    },
    {
      "cell_type": "code",
      "source": [
        "#  droping unnecessery columns\n",
        "df.drop(columns=['ScreenResolution','X_res','Y_res','Inches'],inplace=True)"
      ],
      "metadata": {
        "id": "Arfa3HPmiDFK"
      },
      "execution_count": null,
      "outputs": []
    },
    {
      "cell_type": "code",
      "source": [
        "df['cpu name']=df['Cpu'].apply(lambda x:' '.join(x.split()[0:3]))"
      ],
      "metadata": {
        "id": "nh23wDKQjVoD"
      },
      "execution_count": null,
      "outputs": []
    },
    {
      "cell_type": "code",
      "source": [
        "df['cpu name'].value_counts()"
      ],
      "metadata": {
        "id": "hhZ5GpEHPcPe"
      },
      "execution_count": null,
      "outputs": []
    },
    {
      "cell_type": "code",
      "source": [
        "# creating a function to get the cpu name\n",
        "\n",
        "def fetch_processor(text):\n",
        "  if text == 'Intel Core i7' or text == 'Intel Core i5' or text == 'Intel Core i3':\n",
        "    return text\n",
        "  else:\n",
        "    if text.split()[0] =='Intel':\n",
        "      return 'Other Intel Processor'\n",
        "    else:\n",
        "      return 'AMD Processor'"
      ],
      "metadata": {
        "id": "znP_C2eTOvMx"
      },
      "execution_count": null,
      "outputs": []
    },
    {
      "cell_type": "code",
      "source": [
        "df['Cpu brand'] = df['cpu name'].apply(fetch_processor)"
      ],
      "metadata": {
        "id": "V9IiaKz8QeSq"
      },
      "execution_count": null,
      "outputs": []
    },
    {
      "cell_type": "markdown",
      "source": [
        "chart 12"
      ],
      "metadata": {
        "id": "g3ok8BiwoiGr"
      }
    },
    {
      "cell_type": "code",
      "source": [
        "sns.barplot(x = df['Cpu brand'].value_counts().values, y = df['Cpu brand'].value_counts().index,orient='h',palette='mako')\n",
        "\n",
        "for i,v in enumerate(df['Cpu brand'].value_counts()):\n",
        "  plt.text(v,i,str(v))\n",
        "\n",
        "plt.title(\"Distribution of CPU Brands\")"
      ],
      "metadata": {
        "id": "E6i0vbh_QthD"
      },
      "execution_count": null,
      "outputs": []
    },
    {
      "cell_type": "markdown",
      "source": [
        "chart 13"
      ],
      "metadata": {
        "id": "YKbWG-xBomgz"
      }
    },
    {
      "cell_type": "code",
      "source": [
        "plt.figure(figsize=(12, 8))  # Adjusting the figure size\n",
        "\n",
        "# Creating the bar plot with custom colors and horizontal orientation\n",
        "ax = sns.barplot(x=df['Cpu brand'], y=df['Price'], color='skyblue')\n",
        "\n",
        "# Adding annotations with price values on each bar\n",
        "for p in ax.patches:\n",
        "    ax.annotate(f\"${p.get_height():.2f}\",\n",
        "                (p.get_x() + p.get_width() / 2, p.get_height()),\n",
        "                ha='center', va='bottom', fontsize=10, color='black')\n",
        "\n",
        "# Setting title and labels\n",
        "plt.title('Price Distribution by CPU Brand', fontsize=16)\n",
        "plt.xlabel('CPU Brand', fontsize=14)\n",
        "plt.ylabel('Price', fontsize=14)\n",
        "\n",
        "# Adjusting layout\n",
        "plt.tight_layout()\n",
        "\n",
        "# Removing top and right spines\n",
        "sns.despine()\n",
        "\n",
        "# Adding a horizontal line for the average price\n",
        "average_price = df['Price'].mean()\n",
        "plt.axhline(y=average_price, color='red', linestyle='--', linewidth=2, label=f'Average Price (${average_price:.2f})')\n",
        "\n",
        "# Adding legend\n",
        "plt.legend()\n",
        "\n",
        "# Rotating x-axis labels for better readability\n",
        "plt.xticks(rotation=45)\n",
        "\n",
        "# Showing the plot\n",
        "plt.show()\n"
      ],
      "metadata": {
        "id": "ZYxQGVI4TdLa"
      },
      "execution_count": null,
      "outputs": []
    },
    {
      "cell_type": "code",
      "source": [
        "# droping cpu and cpu name columns\n",
        "\n",
        "df.drop(columns=['Cpu','cpu name'],inplace = True)"
      ],
      "metadata": {
        "id": "paPVSA5KXRMl"
      },
      "execution_count": null,
      "outputs": []
    },
    {
      "cell_type": "code",
      "source": [],
      "metadata": {
        "id": "8Z3MsOgqXk8E"
      },
      "execution_count": null,
      "outputs": []
    },
    {
      "cell_type": "markdown",
      "source": [
        "# ram columns"
      ],
      "metadata": {
        "id": "gl_3Rd7iXQnn"
      }
    },
    {
      "cell_type": "markdown",
      "source": [
        "chart 14"
      ],
      "metadata": {
        "id": "-VBp8la0orKF"
      }
    },
    {
      "cell_type": "code",
      "source": [
        "ax = df['Ram'].value_counts().plot(kind='bar')\n",
        "\n",
        "for i,v in enumerate(df['Ram'].value_counts()):\n",
        "  ax.text(i,v,str(v),ha='center', va='bottom', fontsize=10, color='black')\n",
        "\n",
        "# Setting title and labels\n",
        "plt.title('Distribution of RAM', fontsize=16)\n",
        "plt.xlabel('RAM (GB)', fontsize=14)\n",
        "plt.ylabel('Count', fontsize=14)"
      ],
      "metadata": {
        "id": "rBBXTUB2aEly"
      },
      "execution_count": null,
      "outputs": []
    },
    {
      "cell_type": "markdown",
      "source": [
        "chart 15"
      ],
      "metadata": {
        "id": "93cIYkKvotmW"
      }
    },
    {
      "cell_type": "code",
      "source": [
        "sns.barplot(x=df['Ram'],y=df['Price'],palette='mako')\n",
        "plt.title(\"Price Distribution by RAM Capacity\")\n"
      ],
      "metadata": {
        "id": "uGPLFMHMfpN-"
      },
      "execution_count": null,
      "outputs": []
    },
    {
      "cell_type": "markdown",
      "source": [
        "#memory columns"
      ],
      "metadata": {
        "id": "nrrGn-W2gnuM"
      }
    },
    {
      "cell_type": "code",
      "source": [
        "# replace .0 to empty string this code try to  remove the decimal\n",
        "df['Memory'] = df['Memory'].astype(str).replace('\\.0','',regex=True)\n",
        "\n",
        "# replace 'GB' to empty string 'TB' to '000'\n",
        "df['Memory'] = df['Memory'].str.replace('GB','')\n",
        "df['Memory'] = df['Memory'].str.replace('TB','000')\n",
        "\n",
        "new = df['Memory'].str.split('+',n=1,expand = True)\n",
        "\n",
        "df['first'] = new[0].str.strip()\n",
        "df['second'] = new[1].fillna('0')\n",
        "\n",
        "# creating columns layer1HHD\n",
        "df['layer1HHD'] = df['first'].apply(lambda x:1 if 'HDD' in x else 0)\n",
        "\n",
        "# creating columns layer1ssd\n",
        "df['layer1ssd'] = df['first'].apply(lambda x:1 if 'SSD' in x else 0)\n",
        "\n",
        "# create columns Hybrid\n",
        "df['layer1Hybrid'] =df['first'].apply(lambda x: 1 if 'Hybrid' in x else 0)\n",
        "\n",
        "# creating columns flash storge\n",
        "\n",
        "df['layer1Flash_storage'] = df['first'].apply(lambda x :1 if 'Flash Storage' in x else 0)\n",
        "\n",
        "#  removing all the character\n",
        "df['second'] = df['second'].str.replace(r'\\D','')\n",
        "\n",
        "# extraxcting only digit\n",
        "df['first'] = df['first'].str.extract('(\\d+)',expand=False)\n",
        "df['second'].fillna('0',inplace=True)\n",
        "\n",
        "\n",
        "\n",
        "# creating layer2HDD\n",
        "df['layer2HDD'] = df['second'].apply(lambda x:1 if 'HDD' in x else 0)\n",
        "\n",
        "# creating layer2SSD\n",
        "df['layer2SSD'] = df['second'].apply(lambda x:1 if 'SSD' in x else 0)\n",
        "\n",
        "# creating layer2Hybrid columns\n",
        "df['layer2Hybrid'] = df['second'].apply(lambda x: 1 if 'Hybrid' in x else 0)\n",
        "\n",
        "#  creating layer2Flashstorage columns\n",
        "df['layer2Flash_storage'] = df['second'].apply(lambda x: 1 if 'Flash Storage' in x else 0)\n",
        "\n",
        "# removing all the character\n",
        "df['second'] = df['second'].str.replace(r'\\D','')\n",
        "\n",
        "# changing the datatype\n",
        "df['first'] = df['first'].astype('int32')\n",
        "df['second'] = df['second'].astype('int32')\n"
      ],
      "metadata": {
        "id": "vb1iVb3V9_ZZ"
      },
      "execution_count": null,
      "outputs": []
    },
    {
      "cell_type": "code",
      "source": [
        "# creating HDD,SSD,Hybrid and Flash_storage columns\n",
        "df['HDD'] = (df['first'] * df['layer1HHD'] + df['second'] * df['layer2HDD'])\n",
        "df['SSD'] = (df['first'] * df['layer1ssd'] + df['second'] * df['layer2SSD'])\n",
        "df['Hybrid'] = (df['first'] * df['layer1Hybrid'] + df['second'] * df['layer2Hybrid'])\n",
        "df['Flash_storage'] = (df['first'] * df['layer1Flash_storage'] + df['second'] * df['layer2Flash_storage'])\n"
      ],
      "metadata": {
        "id": "jYbChKmIALhB"
      },
      "execution_count": null,
      "outputs": []
    },
    {
      "cell_type": "code",
      "source": [
        "# droping unnecessary columns\n",
        "df.drop(columns=['first','second','layer1HHD','layer1ssd','layer1Hybrid','layer2HDD','layer2SSD','layer2Hybrid','layer2Flash_storage','Memory','Hybrid','Flash_storage','layer1Flash_storage'],inplace=True)"
      ],
      "metadata": {
        "id": "JItiszNLnZyC"
      },
      "execution_count": null,
      "outputs": []
    },
    {
      "cell_type": "code",
      "source": [
        "df.corr()['Price']"
      ],
      "metadata": {
        "id": "kPmjxJmqoQzO"
      },
      "execution_count": null,
      "outputs": []
    },
    {
      "cell_type": "markdown",
      "source": [
        "#gpu column"
      ],
      "metadata": {
        "id": "5CgdbqPVp2i4"
      }
    },
    {
      "cell_type": "code",
      "source": [
        "df['gpu brand'] = df['Gpu'].apply(lambda x:x.split()[0])\n",
        "df['gpu brand']"
      ],
      "metadata": {
        "id": "H0SYMaQ5p5Ix"
      },
      "execution_count": null,
      "outputs": []
    },
    {
      "cell_type": "markdown",
      "source": [
        "chart 16"
      ],
      "metadata": {
        "id": "uEdXs6dzpMMv"
      }
    },
    {
      "cell_type": "code",
      "source": [
        "sns.barplot(x= df['gpu brand'].value_counts().index,y=df['gpu brand'].value_counts().values,palette='mako')\n",
        "for i,v in enumerate(df['gpu brand'].value_counts().values):\n",
        "  plt.text(i,v,str(v))\n",
        "\n",
        "plt.title('GPU Brand Distribution')"
      ],
      "metadata": {
        "id": "eM1CXrBJrcC6"
      },
      "execution_count": null,
      "outputs": []
    },
    {
      "cell_type": "markdown",
      "source": [
        "chart 17"
      ],
      "metadata": {
        "id": "KGc0SnmrpOqp"
      }
    },
    {
      "cell_type": "code",
      "source": [
        "sns.barplot(x= df['gpu brand'],y=df['Price'],palette='mako')\n",
        "plt.title('Brand and price distribution')"
      ],
      "metadata": {
        "id": "jD8OsbpDsX7T"
      },
      "execution_count": null,
      "outputs": []
    },
    {
      "cell_type": "code",
      "source": [
        "# droping gpu columns\n",
        "df.drop(columns=['Gpu'],inplace=True)"
      ],
      "metadata": {
        "id": "bzSNoKtQtdoX"
      },
      "execution_count": null,
      "outputs": []
    },
    {
      "cell_type": "markdown",
      "source": [
        "#operating system"
      ],
      "metadata": {
        "id": "zPnI_u-WtqBT"
      }
    },
    {
      "cell_type": "code",
      "source": [
        "## Categorizes operating systems into broader categories: Windows, Mac, and Other/No OS/Linux\n",
        "\n",
        "def cat_os(inp):\n",
        "    if inp == 'Windows 10' or inp == 'Windows 7' or inp == 'Windows 10 S':\n",
        "        return 'Windows'\n",
        "    elif inp == 'macOS' or inp == 'Mac OS X':\n",
        "        return 'Mac'\n",
        "    else:\n",
        "        return 'Others/No OS/Linux'"
      ],
      "metadata": {
        "id": "GUFqxhMturrs"
      },
      "execution_count": null,
      "outputs": []
    },
    {
      "cell_type": "code",
      "source": [
        "# creating os columns\n",
        "\n",
        "df['os'] = df['OpSys'].apply(cat_os)\n",
        "df['os'].value_counts()"
      ],
      "metadata": {
        "id": "a905XbFiwswS"
      },
      "execution_count": null,
      "outputs": []
    },
    {
      "cell_type": "code",
      "source": [
        "# droping the OpSys columns\n",
        "\n",
        "df.drop(columns=['OpSys'],inplace = True)"
      ],
      "metadata": {
        "id": "WxcqSIaH1-KI"
      },
      "execution_count": null,
      "outputs": []
    },
    {
      "cell_type": "markdown",
      "source": [
        "chart 18"
      ],
      "metadata": {
        "id": "ZGnTbw_rpVKh"
      }
    },
    {
      "cell_type": "code",
      "source": [
        "sns.barplot(x=df['os'].value_counts().index,y=df['os'].value_counts().values,palette='mako')\n",
        "for i,v in enumerate(df['os'].value_counts().values):\n",
        "  plt.text(i,v,str(v))"
      ],
      "metadata": {
        "id": "Ymnd452wxCv8"
      },
      "execution_count": null,
      "outputs": []
    },
    {
      "cell_type": "markdown",
      "source": [
        "chart 19"
      ],
      "metadata": {
        "id": "E262qB7lpX7s"
      }
    },
    {
      "cell_type": "code",
      "source": [
        "# Visualizes the distribution of laptop prices across different operating systems using a bar plot.\n",
        "\n",
        "\n",
        "sns.barplot(x=df['os'],y=df['Price'],palette='mako')\n",
        "plt.title(\"Price Distribution by Operating System\")"
      ],
      "metadata": {
        "id": "H-ppmu_r0EQ4"
      },
      "execution_count": null,
      "outputs": []
    },
    {
      "cell_type": "markdown",
      "source": [
        "chart 20"
      ],
      "metadata": {
        "id": "Jy-V3X0LpZ_v"
      }
    },
    {
      "cell_type": "code",
      "source": [
        "sns.barplot(x=df['os'],y=df['Price'],palette='viridis')\n",
        "plt.title('OS and Price distribution')"
      ],
      "metadata": {
        "id": "IaPbUsN0F0IC"
      },
      "execution_count": null,
      "outputs": []
    },
    {
      "cell_type": "markdown",
      "source": [
        "#feature ingenering"
      ],
      "metadata": {
        "id": "QHDQbqPqHEiR"
      }
    },
    {
      "cell_type": "code",
      "source": [
        "X=df.drop(columns=['Price'])\n",
        "y = np.log(df['Price'])"
      ],
      "metadata": {
        "id": "tYR9yItwGU3w"
      },
      "execution_count": null,
      "outputs": []
    },
    {
      "cell_type": "code",
      "source": [
        "X_train,X_test,y_train,y_test = train_test_split(X,y,test_size=0.20,random_state=2)"
      ],
      "metadata": {
        "id": "G0u04FywHRR1"
      },
      "execution_count": null,
      "outputs": []
    },
    {
      "cell_type": "markdown",
      "source": [
        "#Linear regression"
      ],
      "metadata": {
        "id": "cwufHVVUM37L"
      }
    },
    {
      "cell_type": "code",
      "source": [
        "step1 = ColumnTransformer(transformers=[\n",
        "    ('col_tnf',OneHotEncoder(sparse=False,drop = 'first'),[0,1,7,10,11])\n",
        "],remainder='passthrough')\n",
        "\n",
        "step2= LinearRegression()\n",
        "\n",
        "pipe = Pipeline([\n",
        "    ('step1',step1),\n",
        "    ('step2',step2)\n",
        "])\n",
        "\n",
        "pipe.fit(X_train,y_train)\n",
        "\n",
        "y_pred = pipe.predict(X_test)\n",
        "\n",
        "print('R2_Score ',r2_score(y_test,y_pred))\n",
        "print('MAE ',mean_absolute_error(y_test,y_pred))"
      ],
      "metadata": {
        "id": "VSNRFWthIi-I"
      },
      "execution_count": null,
      "outputs": []
    },
    {
      "cell_type": "markdown",
      "source": [
        "#Ridge Regression"
      ],
      "metadata": {
        "id": "8UtY6DIoM85j"
      }
    },
    {
      "cell_type": "code",
      "source": [
        "step1 = ColumnTransformer(transformers=[\n",
        "    ('col_tnf',OneHotEncoder(sparse=False,drop='first'),[0,1,7,10,11])\n",
        "],remainder='passthrough')\n",
        "\n",
        "step2 = Ridge(alpha=10)\n",
        "\n",
        "pipe = Pipeline([\n",
        "    ('step1',step1),\n",
        "    ('step2',step2)\n",
        "])\n",
        "\n",
        "pipe.fit(X_train,y_train)\n",
        "\n",
        "y_pred = pipe.predict(X_test)\n",
        "\n",
        "print('r2_score ',r2_score(y_test,y_pred))\n",
        "print('MAE ' ,mean_absolute_error(y_test,y_pred))"
      ],
      "metadata": {
        "id": "MFD_Vfs1NCKY"
      },
      "execution_count": null,
      "outputs": []
    },
    {
      "cell_type": "markdown",
      "source": [
        "#Lasso Regression"
      ],
      "metadata": {
        "id": "uOfRyI9NPGJs"
      }
    },
    {
      "cell_type": "code",
      "source": [
        "step1 = ColumnTransformer(transformers=[\n",
        "    ('col_tnf',OneHotEncoder(sparse=False,drop='first'),[0,1,7,10,11])\n",
        "],remainder='passthrough')\n",
        "\n",
        "step2 = Lasso(alpha=0.001)\n",
        "\n",
        "pipe = Pipeline([\n",
        "    ('step1',step1),\n",
        "    ('step2',step2)\n",
        "])\n",
        "\n",
        "pipe.fit(X_train,y_train)\n",
        "y_pred = pipe.predict(X_test)\n",
        "\n",
        "print('r2_score ',r2_score(y_test,y_pred))\n",
        "print('MAE ' ,mean_absolute_error(y_test,y_pred))"
      ],
      "metadata": {
        "id": "DzC9ml-rPFd6"
      },
      "execution_count": null,
      "outputs": []
    },
    {
      "cell_type": "markdown",
      "source": [
        "#KNN"
      ],
      "metadata": {
        "id": "evKZsE_APG5D"
      }
    },
    {
      "cell_type": "code",
      "source": [
        "step1  = ColumnTransformer(transformers=[\n",
        "    ('col_tnf',OneHotEncoder(sparse=False,drop='first'),[0,1,7,10,11])\n",
        "],remainder='passthrough')\n",
        "\n",
        "step2 = KNeighborsRegressor(n_neighbors=3)\n",
        "\n",
        "pipe = Pipeline([\n",
        "    ('step1',step1),\n",
        "    ('step2',step2)\n",
        "])\n",
        "\n",
        "pipe.fit(X_train,y_train)\n",
        "y_pred = pipe.predict(X_test)\n",
        "\n",
        "print('R2 score ',r2_score(y_test,y_pred))\n",
        "print('MAE ', mean_absolute_error(y_test,y_pred) )"
      ],
      "metadata": {
        "id": "6x9IsTMdPHZH"
      },
      "execution_count": null,
      "outputs": []
    },
    {
      "cell_type": "markdown",
      "source": [
        "#Decision Tree"
      ],
      "metadata": {
        "id": "LPAdBltZPHxd"
      }
    },
    {
      "cell_type": "code",
      "source": [
        "step1 = ColumnTransformer(transformers=[\n",
        "    ('col tnf',OneHotEncoder(sparse=False,drop='first'),[0,1,7,10,11])\n",
        "\n",
        "\n",
        "],remainder='passthrough')\n",
        "\n",
        "step2 = DecisionTreeRegressor(max_depth=8)\n",
        "\n",
        "pipe = Pipeline([\n",
        "    ('step1',step1),\n",
        "    ('step2',step2)\n",
        "])\n",
        "\n",
        "pipe.fit(X_train,y_train)\n",
        "\n",
        "y_pred = pipe.predict(X_test)\n",
        "print('r2 score ',r2_score(y_test,y_pred))\n",
        "print('AME ',mean_absolute_error(y_test,y_pred))"
      ],
      "metadata": {
        "id": "CbXmAmDaPIsK"
      },
      "execution_count": null,
      "outputs": []
    },
    {
      "cell_type": "markdown",
      "source": [
        "#SVM"
      ],
      "metadata": {
        "id": "8HqTMMq5PJFB"
      }
    },
    {
      "cell_type": "code",
      "source": [
        "step1 = ColumnTransformer(transformers=[\n",
        "    ('col tnf',OneHotEncoder(sparse=False,drop='first'),[0,1,7,10,11])\n",
        "\n",
        "\n",
        "],remainder='passthrough')\n",
        "\n",
        "step2 = SVR(kernel='rbf',C=10000,epsilon=0.1)\n",
        "\n",
        "pipe = Pipeline([\n",
        "    ('step1',step1),\n",
        "    ('step2',step2)\n",
        "])\n",
        "\n",
        "pipe.fit(X_train,y_train)\n",
        "\n",
        "y_pred = pipe.predict(X_test)\n",
        "print('r2 score ',r2_score(y_test,y_pred))\n",
        "print('AME ',mean_absolute_error(y_test,y_pred))"
      ],
      "metadata": {
        "id": "PoFNDcJvPJwK"
      },
      "execution_count": null,
      "outputs": []
    },
    {
      "cell_type": "markdown",
      "source": [
        "#RandomForest"
      ],
      "metadata": {
        "id": "3ujTAuElUrfQ"
      }
    },
    {
      "cell_type": "code",
      "source": [
        "step1 = ColumnTransformer(transformers=[\n",
        "    ('col tnf',OneHotEncoder(sparse=False,drop='first'),[0,1,7,10,11])\n",
        "\n",
        "\n",
        "],remainder='passthrough')\n",
        "\n",
        "step2 = RandomForestRegressor(n_estimators=991,\n",
        "                              random_state=5,\n",
        "                              max_samples=0.9,\n",
        "                              max_features=0.77,\n",
        "                              max_depth=15)\n",
        "\n",
        "pipe = Pipeline([\n",
        "    ('step1',step1),\n",
        "    ('step2',step2)\n",
        "])\n",
        "\n",
        "pipe.fit(X_train,y_train)\n",
        "\n",
        "y_pred = pipe.predict(X_test)\n",
        "print('r2 score ',r2_score(y_test,y_pred))\n",
        "print('AME ',mean_absolute_error(y_test,y_pred))"
      ],
      "metadata": {
        "id": "r_RSkOZJUu7T"
      },
      "execution_count": null,
      "outputs": []
    },
    {
      "cell_type": "markdown",
      "source": [
        "#Extratree"
      ],
      "metadata": {
        "id": "DkZztTEuWjHB"
      }
    },
    {
      "cell_type": "code",
      "source": [
        "step1 = ColumnTransformer(transformers=[\n",
        "    ('col tnf',OneHotEncoder(sparse=False,drop='first'),[0,1,7,10,11])\n",
        "\n",
        "\n",
        "],remainder='passthrough')\n",
        "\n",
        "step2 = ExtraTreesRegressor(n_estimators=100,\n",
        "                              random_state=5,\n",
        "                              max_samples=None,\n",
        "                              max_features=0.75,\n",
        "                              max_depth=15)\n",
        "\n",
        "pipe = Pipeline([\n",
        "    ('step1',step1),\n",
        "    ('step2',step2)\n",
        "])\n",
        "\n",
        "pipe.fit(X_train,y_train)\n",
        "\n",
        "y_pred = pipe.predict(X_test)\n",
        "print('r2 score ',r2_score(y_test,y_pred))\n",
        "print('AME ',mean_absolute_error(y_test,y_pred))"
      ],
      "metadata": {
        "id": "TyutAcmfWlIA"
      },
      "execution_count": null,
      "outputs": []
    },
    {
      "cell_type": "markdown",
      "source": [
        "#AdaBOOST"
      ],
      "metadata": {
        "id": "-a2dRJV2XNJf"
      }
    },
    {
      "cell_type": "code",
      "source": [
        "step1 = ColumnTransformer(transformers=[\n",
        "    ('col tnf',OneHotEncoder(sparse=False,drop='first'),[0,1,7,10,11])\n",
        "\n",
        "\n",
        "],remainder='passthrough')\n",
        "\n",
        "step2 = AdaBoostRegressor(n_estimators=15,learning_rate=1.0)\n",
        "\n",
        "pipe = Pipeline([\n",
        "    ('step1',step1),\n",
        "    ('step2',step2)\n",
        "])\n",
        "\n",
        "pipe.fit(X_train,y_train)\n",
        "\n",
        "y_pred = pipe.predict(X_test)\n",
        "print('r2 score ',r2_score(y_test,y_pred))\n",
        "print('AME ',mean_absolute_error(y_test,y_pred))"
      ],
      "metadata": {
        "id": "sPYqJRuIXQg-"
      },
      "execution_count": null,
      "outputs": []
    },
    {
      "cell_type": "markdown",
      "source": [
        "#Gradient Boost"
      ],
      "metadata": {
        "id": "lqzUszRoXjIu"
      }
    },
    {
      "cell_type": "code",
      "source": [
        "step1 = ColumnTransformer(transformers=[\n",
        "    ('col tnf',OneHotEncoder(sparse=False,drop='first'),[0,1,7,10,11])\n",
        "\n",
        "\n",
        "],remainder='passthrough')\n",
        "\n",
        "step2 = GradientBoostingRegressor(n_estimators=500)\n",
        "\n",
        "pipe = Pipeline([\n",
        "    ('step1',step1),\n",
        "    ('step2',step2)\n",
        "])\n",
        "\n",
        "pipe.fit(X_train,y_train)\n",
        "\n",
        "y_pred = pipe.predict(X_test)\n",
        "print('r2 score ',r2_score(y_test,y_pred))\n",
        "print('AME ',mean_absolute_error(y_test,y_pred))"
      ],
      "metadata": {
        "id": "6ZuaFs4vXz4a"
      },
      "execution_count": null,
      "outputs": []
    },
    {
      "cell_type": "markdown",
      "source": [
        "#XgBoost"
      ],
      "metadata": {
        "id": "Fv5DBaPDYLXQ"
      }
    },
    {
      "cell_type": "code",
      "source": [
        "step1 = ColumnTransformer(transformers=[\n",
        "    ('col tnf',OneHotEncoder(sparse=False,drop='first'),[0,1,7,10,11])\n",
        "\n",
        "\n",
        "],remainder='passthrough')\n",
        "\n",
        "step2 = XGBRegressor(n_estimators=31,max_depth=6,learning_rate=0.5)\n",
        "\n",
        "pipe = Pipeline([\n",
        "    ('step1',step1),\n",
        "    ('step2',step2)\n",
        "])\n",
        "\n",
        "pipe.fit(X_train,y_train)\n",
        "\n",
        "y_pred = pipe.predict(X_test)\n",
        "print('r2 score ',r2_score(y_test,y_pred))\n",
        "print('AME ',mean_absolute_error(y_test,y_pred))"
      ],
      "metadata": {
        "id": "Ya0ZlTTTYK_7"
      },
      "execution_count": null,
      "outputs": []
    },
    {
      "cell_type": "markdown",
      "source": [
        "#Conclusion\n",
        "\n",
        "\n",
        "In conclusion, our analysis of the laptop dataset revealed several key insights:\n",
        "\n",
        "1. **Brand Popularity:** HP, Lenovo, Dell, and Asus emerged as the dominant brands in terms of market share.\n",
        "\n",
        "2. **Screen Size and Resolution:** The majority of laptops had screen sizes ranging from 14 to 15 inches, with Full HD (1920x1080) resolution being the most common.\n",
        "\n",
        "3. **Processor and RAM:** Intel processors, particularly the Core i5 and Core i7 variants, were prevalent, paired with varying amounts of RAM, with 8GB being the most popular choice.\n",
        "\n",
        "4. **Storage Options:** Solid-state drives (SSDs) were more common than traditional hard disk drives (HDDs), offering faster performance and reliability.\n",
        "\n",
        "5. **Operating System:** Windows dominated as the preferred operating system, with a small percentage of laptops running macOS or other alternatives.\n",
        "\n",
        "6. **Touchscreen and IPS Displays:** Touchscreen laptops were less common, while IPS displays offered superior viewing angles and color accuracy.\n",
        "\n",
        "7. **Graphics Performance:** Integrated graphics were the norm, with dedicated graphics cards being present in higher-end models.\n",
        "\n",
        "8. **Price Distribution:** Laptop prices exhibited a wide range, with a significant number of models falling within the $500 to $1000 price bracket.\n",
        "\n",
        "9. **Correlation with Price:** Factors such as brand, processor, RAM, storage capacity, and screen resolution showed strong correlations with laptop prices.\n",
        "\n",
        "10. **Predictive Modeling:** Our machine learning models achieved varying levels of accuracy in predicting laptop prices, with Random Forest, Gradient Boosting, and XGBoost yielding the best results.\n",
        "\n",
        "Overall, the analysis provides valuable insights into the key characteristics, trends, and factors influencing laptop prices in the market."
      ],
      "metadata": {
        "id": "ZYv7DfoBZleO"
      }
    }
  ]
}