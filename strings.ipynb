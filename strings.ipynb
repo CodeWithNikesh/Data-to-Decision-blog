{
  "nbformat": 4,
  "nbformat_minor": 0,
  "metadata": {
    "colab": {
      "private_outputs": true,
      "provenance": [],
      "authorship_tag": "ABX9TyM+m1pRiSi/BD+KQtgy7zCL",
      "include_colab_link": true
    },
    "kernelspec": {
      "name": "python3",
      "display_name": "Python 3"
    },
    "language_info": {
      "name": "python"
    }
  },
  "cells": [
    {
      "cell_type": "markdown",
      "metadata": {
        "id": "view-in-github",
        "colab_type": "text"
      },
      "source": [
        "<a href=\"https://colab.research.google.com/github/nikesh11xx/Data-to-Decision-blog/blob/main/strings.ipynb\" target=\"_parent\"><img src=\"https://colab.research.google.com/assets/colab-badge.svg\" alt=\"Open In Colab\"/></a>"
      ]
    },
    {
      "cell_type": "markdown",
      "source": [
        "# String\n",
        "  * in python string are a sequence of unicode character"
      ],
      "metadata": {
        "id": "3p2W5HApeotO"
      }
    },
    {
      "cell_type": "markdown",
      "source": [
        "## creating String"
      ],
      "metadata": {
        "id": "8LkoBhf-g5w9"
      }
    },
    {
      "cell_type": "code",
      "execution_count": null,
      "metadata": {
        "id": "rG1AK5hDelsl"
      },
      "outputs": [],
      "source": [
        "s = 'Hello'\n",
        "s = \"Hello\"\n",
        "s = ''' hello''' # multiline string\n",
        "s = str('Hello')"
      ]
    },
    {
      "cell_type": "markdown",
      "source": [
        "## Accessing Substring from string\n",
        "  \n",
        "  * indexing\n",
        "  * slicing"
      ],
      "metadata": {
        "id": "xOPCPu0khn3C"
      }
    },
    {
      "cell_type": "code",
      "source": [
        "# indexing\n",
        "s  =  'hello i am nikesh'\n",
        "\n",
        "s[11]\n",
        "\n",
        "# slicing\n",
        "print(s[11:-2])\n",
        "print(s[-1:-7:-1])"
      ],
      "metadata": {
        "id": "BBYMaWRAhymc"
      },
      "execution_count": null,
      "outputs": []
    },
    {
      "cell_type": "markdown",
      "source": [
        "## Editing and Deleting in string"
      ],
      "metadata": {
        "id": "Bo7myWT5jnim"
      }
    },
    {
      "cell_type": "code",
      "source": [
        "print(s)\n",
        "# Python strings are immutable\n",
        "s[0] = 'H'"
      ],
      "metadata": {
        "id": "V8vWwMB7jsNV"
      },
      "execution_count": null,
      "outputs": []
    },
    {
      "cell_type": "code",
      "source": [
        "# delete string\n",
        "del s"
      ],
      "metadata": {
        "id": "naVIw50plqIG"
      },
      "execution_count": null,
      "outputs": []
    },
    {
      "cell_type": "markdown",
      "source": [
        "## Operations on string\n",
        "* Arithmetic Operations\n",
        "* Relational Operations\n",
        "* Logical Operations\n",
        "* Loops on string\n",
        "* Membership Operations"
      ],
      "metadata": {
        "id": "-jiocCM4mXIT"
      }
    },
    {
      "cell_type": "code",
      "source": [
        "print('odisha' + ' ' + 'bhubneshwar')\n",
        "print('odisha' * 5)\n",
        "print('odisha' == 'india')\n",
        "print('odisha' != 'india')\n"
      ],
      "metadata": {
        "id": "6UJA9r_3mdqQ"
      },
      "execution_count": null,
      "outputs": []
    },
    {
      "cell_type": "markdown",
      "source": [
        "## Common  Function\n",
        "\n",
        "* len()\n",
        "* min()\n",
        "* max()\n",
        "* sorted() Output come in list data type"
      ],
      "metadata": {
        "id": "fWIyZhRvqXJ-"
      }
    },
    {
      "cell_type": "code",
      "source": [
        "s ='Nikesh'\n",
        "print(len(s))\n",
        "print(min(s))\n",
        "print(max(s))\n",
        "print(sorted(s,reverse=True))"
      ],
      "metadata": {
        "id": "gRd2KA_Rqb6A"
      },
      "execution_count": null,
      "outputs": []
    },
    {
      "cell_type": "markdown",
      "source": [
        "## Capitalize / Title / Upper / Lower / Swapcase"
      ],
      "metadata": {
        "id": "Va6dIfJf0xaO"
      }
    },
    {
      "cell_type": "code",
      "source": [
        "s ='nikesh singh'\n",
        "# capaitalize()\n",
        "s.capitalize()"
      ],
      "metadata": {
        "id": "_lWZfWEC07__"
      },
      "execution_count": null,
      "outputs": []
    },
    {
      "cell_type": "code",
      "source": [
        "# title()\n",
        "s.title() #it convert 1st letter of every words in capital"
      ],
      "metadata": {
        "id": "PKHPveW31Ktw"
      },
      "execution_count": null,
      "outputs": []
    },
    {
      "cell_type": "code",
      "source": [
        "# upper()\n",
        "s.upper() # it convert every letter of words to upper case"
      ],
      "metadata": {
        "id": "ZlsjleqX1rFF"
      },
      "execution_count": null,
      "outputs": []
    },
    {
      "cell_type": "code",
      "source": [
        "# lower()\n",
        "s.lower() # it convert every letter oof words to lower case"
      ],
      "metadata": {
        "id": "uYVW7McH11qF"
      },
      "execution_count": null,
      "outputs": []
    },
    {
      "cell_type": "code",
      "source": [
        "# swapcase()\n",
        "'HeLlo WorLD'.swapcase() #it convert lower to upper upper to lower"
      ],
      "metadata": {
        "id": "fCKgvEyt1_2v"
      },
      "execution_count": null,
      "outputs": []
    },
    {
      "cell_type": "markdown",
      "source": [
        "## count/find/index"
      ],
      "metadata": {
        "id": "xZZivzhr5AMq"
      }
    },
    {
      "cell_type": "code",
      "source": [
        "'my name is nikesh'.count('i')"
      ],
      "metadata": {
        "id": "6MDqQ-Kp5Dkt"
      },
      "execution_count": null,
      "outputs": []
    },
    {
      "cell_type": "code",
      "source": [
        "'my name is nikesh'.find('n') # it give index number it and -1 if character is not found"
      ],
      "metadata": {
        "id": "IkrFmE5o5Xs2"
      },
      "execution_count": null,
      "outputs": []
    },
    {
      "cell_type": "code",
      "source": [
        "'my name is nikesh'.index('n') # it give error if character is not found"
      ],
      "metadata": {
        "id": "WWyhOB5E5jjY"
      },
      "execution_count": null,
      "outputs": []
    },
    {
      "cell_type": "markdown",
      "source": [
        "#endswith/startswith"
      ],
      "metadata": {
        "id": "1ep3Lmsv5_CW"
      }
    },
    {
      "cell_type": "code",
      "source": [
        "'my name is nikesh'.endswith('nikesh')\n"
      ],
      "metadata": {
        "id": "akSSxqmY6Da9"
      },
      "execution_count": null,
      "outputs": []
    },
    {
      "cell_type": "code",
      "source": [
        "'my name is nikesh'.startswith('my')"
      ],
      "metadata": {
        "id": "8Z9jHG2n6K03"
      },
      "execution_count": null,
      "outputs": []
    },
    {
      "cell_type": "markdown",
      "source": [
        "## format"
      ],
      "metadata": {
        "id": "JgFJ4Mfr6aH8"
      }
    },
    {
      "cell_type": "code",
      "source": [
        "name = 'nikesh'\n",
        "gender = 'male'\n",
        "\n",
        "'hi my name is {} and i am a {}'.format(name,gender)"
      ],
      "metadata": {
        "id": "PmULql3r6cFa"
      },
      "execution_count": null,
      "outputs": []
    },
    {
      "cell_type": "code",
      "source": [
        "'hi my name is {0} and i am a {1}'.format(name,gender)"
      ],
      "metadata": {
        "id": "Y6D3Lv3D7LN3"
      },
      "execution_count": null,
      "outputs": []
    },
    {
      "cell_type": "code",
      "source": [
        "f'hi my name is {name} and i am a {gender}'"
      ],
      "metadata": {
        "id": "mhivPVvl6z9w"
      },
      "execution_count": null,
      "outputs": []
    },
    {
      "cell_type": "markdown",
      "source": [
        "##isalnum()/ isalpha()/ isdigit()/ isidentifier()"
      ],
      "metadata": {
        "id": "l2FmO_mk6-_K"
      }
    },
    {
      "cell_type": "code",
      "source": [
        "'nikesh123'.isalnum()"
      ],
      "metadata": {
        "id": "i5h3PgdE8H_J"
      },
      "execution_count": null,
      "outputs": []
    },
    {
      "cell_type": "code",
      "source": [
        "'nikesh123'.isalpha()"
      ],
      "metadata": {
        "id": "jX-nQHg18qSA"
      },
      "execution_count": null,
      "outputs": []
    },
    {
      "cell_type": "code",
      "source": [
        "'nikesh123'.isdigit()"
      ],
      "metadata": {
        "id": "YRHASLQF8vEh"
      },
      "execution_count": null,
      "outputs": []
    },
    {
      "cell_type": "code",
      "source": [
        "'nikesh123'.isidentifier()"
      ],
      "metadata": {
        "id": "Hi1n_rV-83yP"
      },
      "execution_count": null,
      "outputs": []
    },
    {
      "cell_type": "markdown",
      "source": [
        "## split() / join()"
      ],
      "metadata": {
        "id": "VdVzgTLf9HEZ"
      }
    },
    {
      "cell_type": "code",
      "source": [
        "' hi my name is nikesh '.split()"
      ],
      "metadata": {
        "id": "idMyuQx49MmC"
      },
      "execution_count": null,
      "outputs": []
    },
    {
      "cell_type": "code",
      "source": [
        "' hi my name is nikesh '.split('i')"
      ],
      "metadata": {
        "id": "SGW_XcXx9Woq"
      },
      "execution_count": null,
      "outputs": []
    },
    {
      "cell_type": "code",
      "source": [
        "' '.join(['hi', 'my', 'name', 'is', 'nikesh'])"
      ],
      "metadata": {
        "id": "-vrgLJaX9jvv"
      },
      "execution_count": null,
      "outputs": []
    },
    {
      "cell_type": "code",
      "source": [
        "'hi my name is nikesh'.replace('name','naam')"
      ],
      "metadata": {
        "id": "SrqgoIXf942U"
      },
      "execution_count": null,
      "outputs": []
    },
    {
      "cell_type": "code",
      "source": [
        "'nikesh  singh    '.strip()"
      ],
      "metadata": {
        "id": "x9ziJYOR-YtW"
      },
      "execution_count": null,
      "outputs": []
    },
    {
      "cell_type": "markdown",
      "source": [
        "# Find the length of a given string without the len() function"
      ],
      "metadata": {
        "id": "CQRPV_ERDODD"
      }
    },
    {
      "cell_type": "code",
      "source": [
        "n = input('Enter the string ')\n",
        "\n",
        "c= 0\n",
        "\n",
        "for i in (n):\n",
        "  if i == ' ':\n",
        "    continue\n",
        "  c +=1\n",
        "\n",
        "print(c)"
      ],
      "metadata": {
        "id": "8-mxkTer-mmj"
      },
      "execution_count": null,
      "outputs": []
    },
    {
      "cell_type": "markdown",
      "source": [
        "Extract username from E-mail"
      ],
      "metadata": {
        "id": "ae9Q4gn8Ef_Z"
      }
    },
    {
      "cell_type": "code",
      "source": [
        "email = input('Enter the email ')\n",
        "\n",
        "pos = email.index('@')\n",
        "\n",
        "print(email[0:pos])"
      ],
      "metadata": {
        "id": "9lJ7IZrBDHh3"
      },
      "execution_count": null,
      "outputs": []
    },
    {
      "cell_type": "markdown",
      "source": [
        "count the frequency of a particular character in a provided string"
      ],
      "metadata": {
        "id": "LTcp0d6sFEKD"
      }
    },
    {
      "cell_type": "code",
      "source": [
        "w = input('Enter your sentences ')\n",
        "\n",
        "term = input('What would like to search for  ')\n",
        "\n",
        "count = 0\n",
        "for i in w:\n",
        "  if i == term:\n",
        "    count +=1\n",
        "print(count)"
      ],
      "metadata": {
        "id": "jAqDsXBqFOGx"
      },
      "execution_count": null,
      "outputs": []
    },
    {
      "cell_type": "markdown",
      "source": [
        "Write a program which can remove a particular character from a string"
      ],
      "metadata": {
        "id": "yGus8aDZGiVL"
      }
    },
    {
      "cell_type": "code",
      "source": [
        "s = input('Enter the string ')\n",
        "term = input('what would like to remove ')\n",
        "\n",
        "result = ''\n",
        "\n",
        "for i  in s:\n",
        "  if i != term:\n",
        "    result +=i\n",
        "print(result)"
      ],
      "metadata": {
        "id": "awXKBcYfGs-x"
      },
      "execution_count": null,
      "outputs": []
    },
    {
      "cell_type": "markdown",
      "source": [
        "write a program to  count the number of\n",
        "\n",
        "words in a string without split()\n"
      ],
      "metadata": {
        "id": "0Q8pbMYRHwBq"
      }
    },
    {
      "cell_type": "code",
      "source": [
        "def count_s(string):\n",
        "  l = []\n",
        "  temp = ''\n",
        "  for i in string:\n",
        "\n",
        "    if i != ' ':\n",
        "      temp += i\n",
        "    else:\n",
        "      l.append(temp)\n",
        "      temp = ''\n",
        "  l.append(temp)\n",
        "  print(l)\n",
        "\n",
        "count_s('hi how are you')"
      ],
      "metadata": {
        "id": "HKTENC55H6pK"
      },
      "execution_count": null,
      "outputs": []
    },
    {
      "cell_type": "markdown",
      "source": [
        "write a python program to convert a string to title case without using the title()"
      ],
      "metadata": {
        "id": "DOn4zFsPZAIk"
      }
    },
    {
      "cell_type": "code",
      "source": [
        "def titels(string):\n",
        "  l = []\n",
        "  st = ''\n",
        "\n",
        "  for i in string.split():\n",
        "    l.append(i[0].upper() + i[1:].lower())\n",
        "    st = ' '.join(l)\n",
        "  print(st)\n",
        "titels('nikesh singh')"
      ],
      "metadata": {
        "id": "5J40yKA1aQwt"
      },
      "execution_count": null,
      "outputs": []
    },
    {
      "cell_type": "code",
      "source": [],
      "metadata": {
        "id": "E2Imp39qdsXg"
      },
      "execution_count": null,
      "outputs": []
    },
    {
      "cell_type": "code",
      "source": [],
      "metadata": {
        "id": "OM9ifi1bvpWt"
      },
      "execution_count": null,
      "outputs": []
    },
    {
      "cell_type": "code",
      "source": [],
      "metadata": {
        "id": "AP25I5OOTkqq"
      },
      "execution_count": null,
      "outputs": []
    }
  ]
}